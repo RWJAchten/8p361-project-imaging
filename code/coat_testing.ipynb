{
 "cells": [
  {
   "cell_type": "code",
   "execution_count": null,
   "metadata": {},
   "outputs": [
    {
     "name": "stderr",
     "output_type": "stream",
     "text": [
      "c:\\Users\\20222787\\.conda\\envs\\tf\\lib\\site-packages\\tensorflow\\python\\keras\\engine\\training_arrays_v1.py:37: UserWarning: A NumPy version >=1.22.4 and <2.3.0 is required for this version of SciPy (detected version 1.21.5)\n",
      "  from scipy.sparse import issparse  # pylint: disable=g-import-not-at-top\n"
     ]
    }
   ],
   "source": [
    "import os\n",
    "from models import get_pcam_generators, simple_vit, model_preparation, train_model, evaluate_model\n",
    "\n",
    "# assuming this file is in the 'code' directory, which is in the same folder as the 'Data' directory:\n",
    "\n",
    "\n",
    "#         |---- code-- cnn.py\n",
    "# parent--|                       |-- train\n",
    "#         |---- Data-- train+val--|\n",
    "#         |                       |-- validation\n",
    "#         |---- logs\n",
    "#         |\n",
    "#         |---- metadata\n",
    "\n",
    "# change 'dir' to your parent directory if the lines below don't work\n",
    "os.chdir('..')\n",
    "dir=os.getcwd()"
   ]
  },
  {
   "cell_type": "code",
   "execution_count": null,
   "metadata": {},
   "outputs": [
    {
     "name": "stdout",
     "output_type": "stream",
     "text": [
      "Found 144000 images belonging to 2 classes.\n",
      "Found 16000 images belonging to 2 classes.\n",
      "Epoch 1/5\n",
      " 607/4500 [===>..........................] - ETA: 19:02 - loss: 1.4030 - accuracy: 0.4975"
     ]
    }
   ],
   "source": [
    "\n",
    "\n",
    "train_gen, val_gen = get_pcam_generators(dir+'\\Data')\n",
    "\n",
    "input_shape=(96,96,3)\n",
    "model = simple_vit(input_shape=input_shape)\n",
    "\n",
    "model_name='simple_vit2'\n",
    "model, callbacks_list=model_preparation(model,model_name,dir)\n",
    "\n",
    "epochs=5\n",
    "model, history = train_model(model, train_gen, val_gen, epochs, callbacks_list)\n"
   ]
  },
  {
   "cell_type": "code",
   "execution_count": null,
   "metadata": {},
   "outputs": [],
   "source": [
    "accuracy, recall, roc_auc, confusion_matrix = evaluate_model(model, val_gen)"
   ]
  }
 ],
 "metadata": {
  "kernelspec": {
   "display_name": "tf",
   "language": "python",
   "name": "python3"
  },
  "language_info": {
   "codemirror_mode": {
    "name": "ipython",
    "version": 3
   },
   "file_extension": ".py",
   "mimetype": "text/x-python",
   "name": "python",
   "nbconvert_exporter": "python",
   "pygments_lexer": "ipython3",
   "version": "3.9.21"
  }
 },
 "nbformat": 4,
 "nbformat_minor": 2
}

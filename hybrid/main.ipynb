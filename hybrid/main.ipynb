{
 "cells": [
  {
   "cell_type": "code",
   "execution_count": null,
   "metadata": {},
   "outputs": [],
   "source": [
    "import os\n",
    "from Controller import *\n",
    "from Model_builds import *\n",
    "import tensorflow as tf\n",
    "os.chdir('..')\n",
    "dir=os.getcwd()"
   ]
  },
  {
   "cell_type": "code",
   "execution_count": null,
   "metadata": {},
   "outputs": [],
   "source": [
    "model = Vision_transformer_single(patch_size=(16,16))\n",
    "\n",
    "dir=os.getcwd()\n",
    "train_gen, val_gen = get_pcam_generators(dir+'\\Data')\n",
    "\n",
    "model_name='vitsingle_test4'\n",
    "model , callbacks_list, model_path = model_preparation(model,model_name,dir)\n",
    "\n",
    "epochs=1\n",
    "model, history = train_model(model, train_gen, val_gen, epochs, callbacks_list)\n",
    "\n",
    "loss, accuracy, area_under_curve, recall = evaluate_model_from_file(model_path, val_gen)\n",
    "\n"
   ]
  }
 ],
 "metadata": {
  "kernelspec": {
   "display_name": "tf",
   "language": "python",
   "name": "python3"
  },
  "language_info": {
   "codemirror_mode": {
    "name": "ipython",
    "version": 3
   },
   "file_extension": ".py",
   "mimetype": "text/x-python",
   "name": "python",
   "nbconvert_exporter": "python",
   "pygments_lexer": "ipython3",
   "version": "3.9.21"
  }
 },
 "nbformat": 4,
 "nbformat_minor": 2
}

{
 "cells": [
  {
   "cell_type": "code",
   "execution_count": null,
   "metadata": {},
   "outputs": [],
   "source": [
    "import os\n",
    "from Controller import *\n",
    "from Model_builds import *\n",
    "import tensorflow as tf\n",
    "os.chdir('..')\n",
    "dir=os.getcwd()"
   ]
  },
  {
   "cell_type": "markdown",
   "metadata": {},
   "source": [
    "model 1: simple vision transformer network with 1 layer and 8x8 patches"
   ]
  },
  {
   "cell_type": "code",
   "execution_count": null,
   "metadata": {},
   "outputs": [],
   "source": [
    "model = Vision_transformer_single(embed_dim=254, input_shape=(96,96,3), \n",
    "                       num_heads=4, dropout_rate=0.1, num_classes=1, feed_forward_factor=2, patch_size=(8,8))\n",
    "\n",
    "dir=os.getcwd()\n",
    "train_gen, val_gen = get_pcam_generators(dir+'\\Data')\n",
    "\n",
    "model_name='ViT_with_patch2'\n",
    "model , callbacks_list = model_preparation(model,model_name,dir)\n",
    "\n",
    "epochs=5\n",
    "model, history = train_model(model, train_gen, val_gen, epochs, callbacks_list)\n",
    "\n",
    "accuracy, recall, roc_auc, confusion_matrix = evaluate_model(model, val_gen)"
   ]
  },
  {
   "cell_type": "markdown",
   "metadata": {},
   "source": [
    "double cnn"
   ]
  },
  {
   "cell_type": "code",
   "execution_count": null,
   "metadata": {},
   "outputs": [],
   "source": [
    "model = CNN_double()\n",
    "\n",
    "dir=os.getcwd()\n",
    "train_gen, val_gen = get_pcam_generators(dir+'\\Data')\n",
    "\n",
    "model_name='CNN_double1'\n",
    "model , callbacks_list = model_preparation(model,model_name,dir)\n",
    "\n",
    "epochs=5\n",
    "model, history = train_model(model, train_gen, val_gen, epochs, callbacks_list)\n",
    "\n",
    "accuracy, recall, roc_auc, confusion_matrix = evaluate_model(model, val_gen)"
   ]
  },
  {
   "cell_type": "markdown",
   "metadata": {},
   "source": [
    "hybrid 1"
   ]
  },
  {
   "cell_type": "code",
   "execution_count": null,
   "metadata": {},
   "outputs": [],
   "source": [
    "model = Hybrid_single(patch_size=(8,8))\n",
    "\n",
    "dir=os.getcwd()\n",
    "train_gen, val_gen = get_pcam_generators(dir+'\\Data')\n",
    "\n",
    "model_name='single_hybrid1'\n",
    "model , callbacks_list = model_preparation(model,model_name,dir)\n",
    "\n",
    "epochs=5\n",
    "model, history = train_model(model, train_gen, val_gen, epochs, callbacks_list)\n",
    "\n",
    "accuracy, recall, roc_auc, confusion_matrix = evaluate_model(model, val_gen)"
   ]
  },
  {
   "cell_type": "markdown",
   "metadata": {},
   "source": [
    "hybrid double"
   ]
  },
  {
   "cell_type": "code",
   "execution_count": null,
   "metadata": {},
   "outputs": [],
   "source": [
    "model = Hybrid_double(patch_size=(8,8))\n",
    "\n",
    "dir=os.getcwd()\n",
    "train_gen, val_gen = get_pcam_generators(dir+'\\Data')\n",
    "\n",
    "model_name='double_hybrid1'\n",
    "model , callbacks_list = model_preparation(model,model_name,dir)\n",
    "\n",
    "epochs=5\n",
    "model, history = train_model(model, train_gen, val_gen, epochs, callbacks_list)\n",
    "\n",
    "accuracy, recall, roc_auc, confusion_matrix = evaluate_model(model, val_gen)"
   ]
  }
 ],
 "metadata": {
  "kernelspec": {
   "display_name": "tf",
   "language": "python",
   "name": "python3"
  },
  "language_info": {
   "codemirror_mode": {
    "name": "ipython",
    "version": 3
   },
   "file_extension": ".py",
   "mimetype": "text/x-python",
   "name": "python",
   "nbconvert_exporter": "python",
   "pygments_lexer": "ipython3",
   "version": "3.9.21"
  }
 },
 "nbformat": 4,
 "nbformat_minor": 2
}

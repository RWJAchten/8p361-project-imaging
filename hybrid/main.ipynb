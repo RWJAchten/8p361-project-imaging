{
 "cells": [
  {
   "cell_type": "code",
   "execution_count": null,
   "metadata": {},
   "outputs": [],
   "source": [
    "import os\n",
    "from Controller import *\n",
    "from Model_builds import *\n",
    "import tensorflow as tf\n",
    "os.chdir('..')\n",
    "dir=os.getcwd()"
   ]
  },
  {
   "cell_type": "markdown",
   "metadata": {},
   "source": [
    "model 1: simple vision transformer network with 1 layer and 8x8 patches"
   ]
  },
  {
   "cell_type": "code",
   "execution_count": null,
   "metadata": {},
   "outputs": [],
   "source": [
    "model = Vision_transformer_single(embed_dim=254, input_shape=(96,96,3), \n",
    "                       num_heads=4, dropout_rate=0.1, num_classes=1, feed_forward_factor=2, patch_size=(8,8))\n",
    "\n",
    "dir=os.getcwd()\n",
    "train_gen, val_gen = get_pcam_generators(dir+'\\Data')\n",
    "\n",
    "model_name='ViT_with_patch2'\n",
    "model , callbacks_list = model_preparation(model,model_name,dir)\n",
    "\n",
    "epochs=5\n",
    "model, history = train_model(model, train_gen, val_gen, epochs, callbacks_list)\n",
    "\n",
    "loss, accuracy, AUC, recall = evaluate_model(model, val_gen)"
   ]
  },
  {
   "cell_type": "markdown",
   "metadata": {},
   "source": [
    "double cnn"
   ]
  },
  {
   "cell_type": "code",
   "execution_count": null,
   "metadata": {},
   "outputs": [],
   "source": [
    "model1 = CNN_double()\n",
    "\n",
    "dir=os.getcwd()\n",
    "train_gen, val_gen = get_pcam_generators(dir+'\\Data')\n",
    "\n",
    "model_name='CNN_double3'\n",
    "model1 , callbacks_list = model_preparation(model1,model_name,dir)\n",
    "\n",
    "epochs=1\n",
    "model1, history = train_model(model1, train_gen, val_gen, epochs, callbacks_list)\n",
    "\n",
    "loss, accuracy, AUC, recall = evaluate_model(model, val_gen)"
   ]
  },
  {
   "cell_type": "markdown",
   "metadata": {},
   "source": [
    "hybrid 1"
   ]
  },
  {
   "cell_type": "code",
   "execution_count": null,
   "metadata": {},
   "outputs": [],
   "source": [
    "model = Hybrid_single(patch_size=(16,16))\n",
    "\n",
    "dir=os.getcwd()\n",
    "train_gen, val_gen = get_pcam_generators(dir+'\\Data')\n",
    "\n",
    "model_name='single_hybrid1'\n",
    "model , callbacks_list = model_preparation(model,model_name,dir)\n",
    "\n",
    "epochs=20\n",
    "model, history = train_model(model, train_gen, val_gen, epochs, callbacks_list)\n",
    "\n",
    "loss, accuracy, AUC, recall = evaluate_model(model, val_gen)"
   ]
  },
  {
   "cell_type": "code",
   "execution_count": null,
   "metadata": {},
   "outputs": [],
   "source": [
    "model = Hybrid_double(patch_size=(16,16))\n",
    "\n",
    "dir=os.getcwd()\n",
    "train_gen, val_gen = get_pcam_generators(dir+'\\Data')\n",
    "\n",
    "model_name='double_hybrid2'\n",
    "model , callbacks_list = model_preparation(model,model_name,dir)\n",
    "\n",
    "epochs=20\n",
    "model, history = train_model(model, train_gen, val_gen, epochs, callbacks_list)\n",
    "\n",
    "loss, accuracy, AUC, recall = evaluate_model(model, val_gen)"
   ]
  },
  {
   "cell_type": "code",
   "execution_count": null,
   "metadata": {},
   "outputs": [],
   "source": [
    "model = Hybrid_double(patch_size=(16,16))\n",
    "\n",
    "dir=os.getcwd()\n",
    "train_gen, val_gen = get_pcam_generators(dir+'\\Data')\n",
    "\n",
    "model_name='double_hybrid3'\n",
    "model , callbacks_list = model_preparation(model,model_name,dir)\n",
    "\n",
    "epochs=1\n",
    "model, history = train_model(model, train_gen, val_gen, epochs, callbacks_list)\n",
    "\n",
    "loss, accuracy, AUC, recall = evaluate_model(model, val_gen)"
   ]
  },
  {
   "cell_type": "markdown",
   "metadata": {},
   "source": [
    "hybrid double"
   ]
  },
  {
   "cell_type": "code",
   "execution_count": null,
   "metadata": {},
   "outputs": [
    {
     "name": "stdout",
     "output_type": "stream",
     "text": [
      "Found 144000 images belonging to 2 classes.\n",
      "Found 16000 images belonging to 2 classes.\n",
      "Epoch 1/20\n",
      "4500/4500 [==============================] - ETA: 0s - loss: 0.4469 - accuracy: 0.7991 - auc_1: 0.8736 - recall_1: 0.7879\n",
      "Epoch 1: val_loss improved from inf to 0.43133, saving model to d:\\TUE\\Active\\AI_in_MIA\\8p361-project-imaging/metadata\\single_hybrid1_weights.keras\n",
      "4500/4500 [==============================] - 626s 139ms/step - loss: 0.4469 - accuracy: 0.7991 - auc_1: 0.8736 - recall_1: 0.7879 - val_loss: 0.4313 - val_accuracy: 0.8089 - val_auc_1: 0.9109 - val_recall_1: 0.6946\n",
      "Epoch 2/20\n",
      "4500/4500 [==============================] - ETA: 0s - loss: 0.3814 - accuracy: 0.8336 - auc_1: 0.9098 - recall_1: 0.8325\n",
      "Epoch 2: val_loss improved from 0.43133 to 0.37886, saving model to d:\\TUE\\Active\\AI_in_MIA\\8p361-project-imaging/metadata\\single_hybrid1_weights.keras\n",
      "4500/4500 [==============================] - 619s 138ms/step - loss: 0.3814 - accuracy: 0.8336 - auc_1: 0.9098 - recall_1: 0.8325 - val_loss: 0.3789 - val_accuracy: 0.8323 - val_auc_1: 0.9181 - val_recall_1: 0.8907\n",
      "Epoch 3/20\n",
      "1961/4500 [============>.................] - ETA: 3:19 - loss: 0.3608 - accuracy: 0.8427 - auc_1: 0.9196 - recall_1: 0.8464"
     ]
    }
   ],
   "source": [
    "model = Hybrid_double(patch_size=(16,16))\n",
    "\n",
    "dir=os.getcwd()\n",
    "train_gen, val_gen = get_pcam_generators(dir+'\\Data')\n",
    "\n",
    "model_name='single_hybrid1'\n",
    "model , callbacks_list = model_preparation(model,model_name,dir)\n",
    "\n",
    "epochs=20\n",
    "model, history = train_model(model, train_gen, val_gen, epochs, callbacks_list)\n",
    "\n",
    "loss, accuracy, AUC, recall = evaluate_model(model, val_gen)"
   ]
  }
 ],
 "metadata": {
  "kernelspec": {
   "display_name": "tf",
   "language": "python",
   "name": "python3"
  },
  "language_info": {
   "codemirror_mode": {
    "name": "ipython",
    "version": 3
   },
   "file_extension": ".py",
   "mimetype": "text/x-python",
   "name": "python",
   "nbconvert_exporter": "python",
   "pygments_lexer": "ipython3",
   "version": "3.9.21"
  }
 },
 "nbformat": 4,
 "nbformat_minor": 2
}
